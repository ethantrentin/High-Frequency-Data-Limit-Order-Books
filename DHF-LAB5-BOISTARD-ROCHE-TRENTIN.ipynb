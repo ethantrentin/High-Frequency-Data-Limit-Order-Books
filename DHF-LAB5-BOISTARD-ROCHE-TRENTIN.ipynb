{
 "cells": [
  {
   "cell_type": "markdown",
   "metadata": {},
   "source": [
    "### TP 5 :\n",
    "\n",
    "###### Group : Alexandre BOISTARD, William ROCHE, Ethan TRENTIN"
   ]
  },
  {
   "cell_type": "code",
   "execution_count": null,
   "metadata": {},
   "outputs": [],
   "source": [
    "import numpy\n",
    "import scipy\n",
    "import pandas as pd\n",
    "import matplotlib.pyplot as plt\n",
    "import powerlaw\n",
    "import statsmodels\n",
    "from statsmodels import api\n",
    "from tqdm import tqdm\n",
    "import Hawkes as hwk"
   ]
  }
 ],
 "metadata": {
  "language_info": {
   "name": "python"
  }
 },
 "nbformat": 4,
 "nbformat_minor": 2
}
