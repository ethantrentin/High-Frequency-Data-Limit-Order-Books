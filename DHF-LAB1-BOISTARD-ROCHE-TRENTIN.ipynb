{
 "cells": [
  {
   "cell_type": "markdown",
   "source": [
    "### TP 1 : General Observation on Order Book Data\n",
    "\n",
    "###### Group : Alexandre BOISTARD, William ROCHE, Ethan TRENTIN"
   ],
   "metadata": {
    "collapsed": false
   },
   "id": "eaac1f5c1cbb68b0"
  },
  {
   "cell_type": "code",
   "execution_count": null,
   "id": "initial_id",
   "metadata": {
    "collapsed": true
   },
   "outputs": [],
   "source": [
    "# Question 1 : General statistical analysis on the dataset\n",
    "\n"
   ]
  }
 ],
 "metadata": {
  "kernelspec": {
   "display_name": "Python 3",
   "language": "python",
   "name": "python3"
  },
  "language_info": {
   "codemirror_mode": {
    "name": "ipython",
    "version": 2
   },
   "file_extension": ".py",
   "mimetype": "text/x-python",
   "name": "python",
   "nbconvert_exporter": "python",
   "pygments_lexer": "ipython2",
   "version": "2.7.6"
  }
 },
 "nbformat": 4,
 "nbformat_minor": 5
}
