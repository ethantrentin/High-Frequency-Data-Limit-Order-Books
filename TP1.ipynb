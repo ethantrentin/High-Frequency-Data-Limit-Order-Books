{
 "cells": [
  {
   "cell_type": "markdown",
   "id": "eaac1f5c1cbb68b0",
   "metadata": {
    "collapsed": false
   },
   "source": [
    "### TP 1 : High Frequency Trading \n",
    "\n",
    "*Notebook made by Alexandre Boistard, William Roche, Ethan Trentin.*"
   ]
  },
  {
   "cell_type": "code",
   "execution_count": null,
   "id": "71c8c932",
   "metadata": {},
   "outputs": [],
   "source": []
  },
  {
   "cell_type": "code",
   "execution_count": null,
   "id": "initial_id",
   "metadata": {
    "collapsed": true
   },
   "outputs": [],
   "source": []
  }
 ],
 "metadata": {
  "kernelspec": {
   "display_name": "Python 3",
   "language": "python",
   "name": "python3"
  },
  "language_info": {
   "codemirror_mode": {
    "name": "ipython",
    "version": 2
   },
   "file_extension": ".py",
   "mimetype": "text/x-python",
   "name": "python",
   "nbconvert_exporter": "python",
   "pygments_lexer": "ipython2",
   "version": "2.7.6"
  }
 },
 "nbformat": 4,
 "nbformat_minor": 5
}
