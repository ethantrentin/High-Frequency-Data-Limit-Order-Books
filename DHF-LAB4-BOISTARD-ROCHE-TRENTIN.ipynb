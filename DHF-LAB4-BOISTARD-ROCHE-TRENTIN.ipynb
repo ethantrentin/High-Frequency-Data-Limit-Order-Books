{
 "cells": [
  {
   "cell_type": "markdown",
   "metadata": {},
   "source": [
    "### TP 4 :\n",
    "\n",
    "###### Group : Alexandre BOISTARD, William ROCHE, Ethan TRENTIN"
   ]
  },
  {
   "cell_type": "code",
   "execution_count": 13,
   "metadata": {},
   "outputs": [],
   "source": [
    "import numpy\n",
    "import scipy\n",
    "import pandas as pd\n",
    "import matplotlib.pyplot as plt\n",
    "import powerlaw\n",
    "import statsmodels\n",
    "from statsmodels import api\n",
    "from tqdm import tqdm\n",
    "import Hawkes as hwk"
   ]
  },
  {
   "cell_type": "markdown",
   "metadata": {},
   "source": [
    "Question 1 : **Brownian motions with Poisson sampling.** Take your results from Lab 2 Question 2 and add the Hayashi-Yoshida estimator to the plot."
   ]
  },
  {
   "cell_type": "markdown",
   "metadata": {},
   "source": [
    "We first take the results from Lab 2 Question 2 that was made to simulate Brownian motions with Poisson sampling. So, let's copy the code and improve it."
   ]
  },
  {
   "cell_type": "code",
   "execution_count": 14,
   "metadata": {},
   "outputs": [],
   "source": [
    "def simulate_trade_times(mu, T):\n",
    "    times = []\n",
    "    t = 0\n",
    "    while t < T:\n",
    "        t += numpy.random.exponential(1/mu)\n",
    "        if t < T:\n",
    "            times.append(t)\n",
    "    return numpy.array(times)"
   ]
  },
  {
   "cell_type": "code",
   "execution_count": 15,
   "metadata": {},
   "outputs": [],
   "source": [
    "def get_trade_prices(time_grid, prices, trade_times):\n",
    "    # np.searchsorted returns the index of the first element in prices that is greater than or equal to trade_times\n",
    "    idx = numpy.searchsorted(time_grid, trade_times, side='right')-1\n",
    "    return prices[idx]"
   ]
  },
  {
   "cell_type": "code",
   "execution_count": 16,
   "metadata": {},
   "outputs": [],
   "source": [
    "def synchronize_to_grid(trade_times, trade_prices, sampling_times):\n",
    "    sync_prices = []\n",
    "    pos = 0\n",
    "    for gt in sampling_times:\n",
    "        # We move the position pos until the trade time is greater than the grid time\n",
    "        while pos < len(trade_times) and trade_times[pos] <= gt:\n",
    "            pos += 1\n",
    "        if pos == 0:\n",
    "            # If no trade has occured yet, we use the set price to NaN or 0.\n",
    "            sync_prices.append(numpy.nan)\n",
    "        else:\n",
    "            sync_prices.append(trade_prices[pos-1])\n",
    "    return numpy.array(sync_prices)"
   ]
  },
  {
   "cell_type": "code",
   "execution_count": 17,
   "metadata": {},
   "outputs": [],
   "source": [
    "def compute_covariance_estimator(prices1, prices2):\n",
    "    # We compute the quadratic variation of the processes.\n",
    "    returns1 = numpy.diff(prices1)\n",
    "    returns2 = numpy.diff(prices2)\n",
    "    return numpy.nansum(returns1 * returns2)"
   ]
  },
  {
   "cell_type": "markdown",
   "metadata": {},
   "source": [
    "Now, we are going to create a function to get the Hayashi-Yoshida estimator and later add it to the plot of the simulation."
   ]
  },
  {
   "cell_type": "code",
   "execution_count": 18,
   "metadata": {},
   "outputs": [],
   "source": [
    "def hayashi_yoshida_estimator(times1, times2, prices1, prices2):\n",
    "    if len(times1) < 2 or len(times2) < 2:\n",
    "        return 0.0\n",
    "    increments1 = numpy.diff(prices1)\n",
    "    increments2 = numpy.diff(prices2)\n",
    "    i,j = 1,1\n",
    "    hayashi_yoshida = 0.0\n",
    "    while i < len(increments1) and j < len(increments2):\n",
    "        start = max(times1[i-1], times2[j-1])\n",
    "        end = min(times1[i], times2[j])\n",
    "        if start < end:\n",
    "            hayashi_yoshida += increments1[i-1] * increments2[j-1]\n",
    "        if times1[i] < times2[j]:\n",
    "            i += 1\n",
    "        else:\n",
    "            j += 1\n",
    "    return hayashi_yoshida"
   ]
  },
  {
   "cell_type": "code",
   "execution_count": 49,
   "metadata": {},
   "outputs": [],
   "source": [
    "def simulation(T, n_paths, tau_values, mu_1, mu_2, sigma_1, sigma_2, rho):\n",
    "    dt = 0.0005\n",
    "    time_grid = numpy.arange(0, T+dt, dt)\n",
    "    sampling_grids = {}\n",
    "    for tau in tau_values:\n",
    "        sampling_grids[tau] = numpy.arange(0, T + tau, tau)\n",
    "    # We precompute the Brownian increments on the time grid\n",
    "    n_steps = len(time_grid)\n",
    "\n",
    "    Z_1 = numpy.random.normal(0,1,(n_paths, n_steps))\n",
    "    Z_2 = numpy.random.normal(0,1,(n_paths, n_steps))\n",
    "\n",
    "    # We compute the correlated increments with the Cholesky factorization\n",
    "    dW_1 = numpy.sqrt(dt) * Z_1\n",
    "    dW_2 = numpy.sqrt(dt) * (rho * Z_1 + numpy.sqrt(1-rho**2) * Z_2)\n",
    "\n",
    "    W_1 = numpy.cumsum(dW_1, axis=1)\n",
    "    W_2 = numpy.cumsum(dW_2, axis=1)\n",
    "\n",
    "    p_1_full = sigma_1 * W_1\n",
    "    p_2_full = sigma_2 * W_2\n",
    "    cov_estimates = {tau: [] for tau in tau_values}\n",
    "    Hayashi_Yoshida_estimates = []\n",
    "    for i in tqdm(range(n_paths)):\n",
    "\n",
    "        trade_times_1 = simulate_trade_times(mu_1, T)\n",
    "        trade_times_2 = simulate_trade_times(mu_2, T)\n",
    "\n",
    "        trade_prices_1 = get_trade_prices(time_grid, p_1_full[i,:], trade_times_1)\n",
    "        trade_prices_2 = get_trade_prices(time_grid, p_2_full[i,:], trade_times_2)\n",
    "\n",
    "        for tau in tau_values:\n",
    "\n",
    "            sampling_times = sampling_grids[tau]\n",
    "\n",
    "            sync_prices_1 = synchronize_to_grid(trade_times_1, trade_prices_1, sampling_times)\n",
    "            sync_prices_2 = synchronize_to_grid(trade_times_2, trade_prices_2, sampling_times)\n",
    "    \n",
    "            cov_est = compute_covariance_estimator(sync_prices_1, sync_prices_2)\n",
    "            cov_estimates[tau].append(cov_est)\n",
    "\n",
    "        Hayashi_Yoshida_estimates.append(hayashi_yoshida_estimator(trade_times_1, trade_times_2, trade_prices_1, trade_prices_2))\n",
    "        \n",
    "    theoretical_cov = rho * sigma_1 * sigma_2 * T\n",
    "    mean_cov = []\n",
    "    std_cov = []\n",
    "    for tau in tau_values:\n",
    "        mean_cov.append(numpy.nanmean(cov_estimates[tau]))\n",
    "        std_cov.append(numpy.nanstd(cov_estimates[tau]))\n",
    "\n",
    "    mean_cov = numpy.array(mean_cov)\n",
    "    std_cov = numpy.array(std_cov)\n",
    "\n",
    "    mean_HY = numpy.mean(Hayashi_Yoshida_estimates)\n",
    "    std_HY = numpy.std(Hayashi_Yoshida_estimates)\n",
    "    plt.figure(figsize=(8, 6))\n",
    "    plt.plot(tau_values, mean_cov, label='Mean covariance estimate', marker='o')\n",
    "    plt.fill_between(tau_values, mean_cov - 2*std_cov, mean_cov + 2*std_cov, alpha=0.3, label='Theoretical ±2 std (grid-based)')\n",
    "    plt.axhline(theoretical_cov, color='black', linestyle='dashed', linewidth=2, label='Theoretical covariance')\n",
    "    plt.axhline(mean_HY, color='red', linestyle='-', linewidth=2, label='Mean Hayashi-Yoshida estimate')\n",
    "    plt.fill_between(tau_values, mean_HY - 2*std_HY, mean_HY + 2*std_HY, alpha=0.3, label='Hayashi-Yoshida ±2 std')\n",
    "    plt.xscale('log') \n",
    "    plt.xlabel(\"Sampling period ($\\tau$)\")\n",
    "    plt.ylabel(\"Covariance estimate\")\n",
    "    plt.title(f\"Mean covariance estimates over {n_paths} paths vs. sampling period ($\\tau$)\")\n",
    "    plt.legend()\n",
    "    plt.show()"
   ]
  },
  {
   "cell_type": "code",
   "execution_count": 47,
   "metadata": {},
   "outputs": [],
   "source": [
    "# Let's define the parameters of the model\n",
    "T = 1 # Total time\n",
    "n_paths = 2000 # Number of paths                                            \n",
    "mu_1 = 100 # Intensity of the first Poisson process\n",
    "mu_2= 120 # Intensity of the second Poisson process\n",
    "sigma_1 = 1.0\n",
    "sigma_2 = 1.5\n",
    "rho = 0.5 # Correlation between the 2 Brownian motions\n",
    "tau_values = numpy.logspace(-3, 0, 20) # Sampling periods"
   ]
  },
  {
   "cell_type": "code",
   "execution_count": 50,
   "metadata": {},
   "outputs": [
    {
     "name": "stderr",
     "output_type": "stream",
     "text": [
      "100%|██████████| 2000/2000 [01:08<00:00, 29.38it/s]\n"
     ]
    },
    {
     "data": {
      "image/png": "[encoded data removed]",
      "text/plain": [
       "<Figure size 576x432 with 1 Axes>"
      ]
     },
     "metadata": {
      "needs_background": "light"
     },
     "output_type": "display_data"
    }
   ],
   "source": [
    "simulation(T, n_paths, tau_values, mu_1, mu_2, sigma_1, sigma_2, rho)"
   ]
  }
 ],
 "metadata": {
  "kernelspec": {
   "display_name": "base",
   "language": "python",
   "name": "python3"
  },
  "language_info": {
   "codemirror_mode": {
    "name": "ipython",
    "version": 3
   },
   "file_extension": ".py",
   "mimetype": "text/x-python",
   "name": "python",
   "nbconvert_exporter": "python",
   "pygments_lexer": "ipython3",
   "version": "3.8.8"
  }
 },
 "nbformat": 4,
 "nbformat_minor": 2
}
